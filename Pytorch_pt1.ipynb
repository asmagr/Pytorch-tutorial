{
 "cells": [
  {
   "cell_type": "markdown",
   "id": "ff504938",
   "metadata": {},
   "source": [
    "In this notebook, I learned how to create tensors in many different ways, how to use them in basic operations(+,-,*,/), how to slice, reshape a tensor and finally how to create a numpy array from a tensor and vice versa."
   ]
  },
  {
   "cell_type": "markdown",
   "id": "0f38c943",
   "metadata": {},
   "source": [
    "##  Part 1 : Tensors basics"
   ]
  },
  {
   "cell_type": "code",
   "execution_count": 1,
   "id": "a40591b9",
   "metadata": {},
   "outputs": [],
   "source": [
    "import torch"
   ]
  },
  {
   "cell_type": "code",
   "execution_count": 2,
   "id": "455ff161",
   "metadata": {},
   "outputs": [
    {
     "name": "stdout",
     "output_type": "stream",
     "text": [
      "tensor([nan])\n"
     ]
    }
   ],
   "source": [
    "x = torch.empty(1) #Returns a tensor filled with uninitialized data. \n",
    "#The shape of the tensor is defined by the variable argument size.\n",
    "print(x) #we haven't initialised the value yet, hence the NAN value. 1 is the size of the tensor."
   ]
  },
  {
   "cell_type": "code",
   "execution_count": 8,
   "id": "bc25ef1e",
   "metadata": {},
   "outputs": [
    {
     "name": "stdout",
     "output_type": "stream",
     "text": [
      "tensor([0.0000e+00, 9.5367e-06, 0.0000e+00])\n"
     ]
    }
   ],
   "source": [
    "x = torch.empty(3)\n",
    "print(x) #In this case, it's like a 1D vector with 3 elements."
   ]
  },
  {
   "cell_type": "code",
   "execution_count": 6,
   "id": "8774df9c",
   "metadata": {},
   "outputs": [
    {
     "name": "stdout",
     "output_type": "stream",
     "text": [
      "tensor([[-3., -2., -1.],\n",
      "        [ 0.,  1.,  2.]])\n"
     ]
    }
   ],
   "source": [
    "x = torch.empty(2,3) #2D vector with 3 elements\n",
    "print(x)"
   ]
  },
  {
   "cell_type": "code",
   "execution_count": 10,
   "id": "9a476ed2",
   "metadata": {},
   "outputs": [
    {
     "name": "stdout",
     "output_type": "stream",
     "text": [
      "tensor([[0.8131, 0.3307],\n",
      "        [0.7931, 0.2083]])\n"
     ]
    }
   ],
   "source": [
    "x= torch.rand(2,2) #Returns a tensor filled with random numbers from a uniform distribution on the interval [0, 1)\n",
    "print(x)"
   ]
  },
  {
   "cell_type": "code",
   "execution_count": 12,
   "id": "dd4bfef3",
   "metadata": {},
   "outputs": [
    {
     "name": "stdout",
     "output_type": "stream",
     "text": [
      "tensor([[0., 0.],\n",
      "        [0., 0.],\n",
      "        [0., 0.]])\n"
     ]
    }
   ],
   "source": [
    "x= torch.zeros(3,2)\n",
    "print(x)"
   ]
  },
  {
   "cell_type": "code",
   "execution_count": 13,
   "id": "2e9f7cbd",
   "metadata": {},
   "outputs": [
    {
     "name": "stdout",
     "output_type": "stream",
     "text": [
      "tensor([[1., 1., 1.],\n",
      "        [1., 1., 1.]])\n"
     ]
    }
   ],
   "source": [
    "x= torch.ones(2,3)\n",
    "print(x)"
   ]
  },
  {
   "cell_type": "code",
   "execution_count": 14,
   "id": "d9462db4",
   "metadata": {},
   "outputs": [
    {
     "name": "stdout",
     "output_type": "stream",
     "text": [
      "torch.int32\n"
     ]
    }
   ],
   "source": [
    "#We can change the data type : \n",
    "x= torch.ones(1,3,dtype= torch.int)\n",
    "print(x.dtype)"
   ]
  },
  {
   "cell_type": "code",
   "execution_count": 15,
   "id": "6c367091",
   "metadata": {},
   "outputs": [
    {
     "name": "stdout",
     "output_type": "stream",
     "text": [
      "torch.float64\n"
     ]
    }
   ],
   "source": [
    "x= torch.ones(1,3,dtype= torch.double)\n",
    "print(x.dtype)"
   ]
  },
  {
   "cell_type": "code",
   "execution_count": 16,
   "id": "c0c9b6f7",
   "metadata": {},
   "outputs": [
    {
     "name": "stdout",
     "output_type": "stream",
     "text": [
      "torch.float32\n"
     ]
    }
   ],
   "source": [
    "#But by default it's torch.float32\n",
    "x=torch.ones(2,3)\n",
    "print(x.dtype)"
   ]
  },
  {
   "cell_type": "code",
   "execution_count": 17,
   "id": "8ddac839",
   "metadata": {},
   "outputs": [
    {
     "name": "stdout",
     "output_type": "stream",
     "text": [
      "torch.Size([1, 3])\n"
     ]
    }
   ],
   "source": [
    "#To check the size : \n",
    "x= torch.ones(1,3,dtype= torch.int)\n",
    "print(x.size())"
   ]
  },
  {
   "cell_type": "code",
   "execution_count": 18,
   "id": "f70c5bbf",
   "metadata": {},
   "outputs": [
    {
     "name": "stdout",
     "output_type": "stream",
     "text": [
      "tensor([1.0000, 2.5000])\n"
     ]
    }
   ],
   "source": [
    "#We can create a tensor from existing data \n",
    "x=torch.tensor([1,2.5])\n",
    "print(x)"
   ]
  },
  {
   "cell_type": "code",
   "execution_count": 19,
   "id": "a47f5726",
   "metadata": {},
   "outputs": [
    {
     "name": "stdout",
     "output_type": "stream",
     "text": [
      "tensor([[0.7293, 0.7934],\n",
      "        [0.6034, 0.5647]])\n"
     ]
    }
   ],
   "source": [
    "x=torch.rand(2,2)\n",
    "y=torch.rand(2,2)\n",
    "print(x)"
   ]
  },
  {
   "cell_type": "code",
   "execution_count": 20,
   "id": "6c8244c7",
   "metadata": {},
   "outputs": [
    {
     "name": "stdout",
     "output_type": "stream",
     "text": [
      "tensor([[0.5411, 0.6599],\n",
      "        [0.7594, 0.9032]])\n"
     ]
    }
   ],
   "source": [
    "print(y)"
   ]
  },
  {
   "cell_type": "code",
   "execution_count": 21,
   "id": "f2bf63dc",
   "metadata": {},
   "outputs": [
    {
     "name": "stdout",
     "output_type": "stream",
     "text": [
      "tensor([[1.2704, 1.4533],\n",
      "        [1.3628, 1.4679]])\n"
     ]
    }
   ],
   "source": [
    "z=x+y\n",
    "print(z) #This does element wise addition "
   ]
  },
  {
   "cell_type": "code",
   "execution_count": 22,
   "id": "d6c32956",
   "metadata": {},
   "outputs": [
    {
     "name": "stdout",
     "output_type": "stream",
     "text": [
      "tensor([[1.2704, 1.4533],\n",
      "        [1.3628, 1.4679]])\n"
     ]
    }
   ],
   "source": [
    "z=torch.add(x,y)\n",
    "print(z)"
   ]
  },
  {
   "cell_type": "code",
   "execution_count": 23,
   "id": "71b9a676",
   "metadata": {},
   "outputs": [
    {
     "name": "stdout",
     "output_type": "stream",
     "text": [
      "tensor([[1.2704, 1.4533],\n",
      "        [1.3628, 1.4679]])\n"
     ]
    }
   ],
   "source": [
    "y.add_(x)\n",
    "print(y)"
   ]
  },
  {
   "cell_type": "code",
   "execution_count": 29,
   "id": "a5f468e5",
   "metadata": {},
   "outputs": [
    {
     "name": "stdout",
     "output_type": "stream",
     "text": [
      "tensor([[0.5997, 0.6521],\n",
      "        [0.4717, 0.2739]])\n"
     ]
    }
   ],
   "source": [
    "x=torch.rand(2,2)\n",
    "y=torch.rand(2,2)\n",
    "print(x)"
   ]
  },
  {
   "cell_type": "code",
   "execution_count": 30,
   "id": "836c654b",
   "metadata": {},
   "outputs": [
    {
     "name": "stdout",
     "output_type": "stream",
     "text": [
      "tensor([[0.6356, 0.3418],\n",
      "        [0.4445, 0.8727]])\n"
     ]
    }
   ],
   "source": [
    "print(y)"
   ]
  },
  {
   "cell_type": "code",
   "execution_count": 31,
   "id": "f42afa6a",
   "metadata": {},
   "outputs": [
    {
     "name": "stdout",
     "output_type": "stream",
     "text": [
      "tensor([[-0.0358,  0.3103],\n",
      "        [ 0.0272, -0.5987]])\n"
     ]
    }
   ],
   "source": [
    "z= x-y\n",
    "z= torch.sub(x,y)\n",
    "print(z)"
   ]
  },
  {
   "cell_type": "code",
   "execution_count": 32,
   "id": "d20589d7",
   "metadata": {},
   "outputs": [
    {
     "name": "stdout",
     "output_type": "stream",
     "text": [
      "tensor([[-0.0358,  0.3103],\n",
      "        [ 0.0272, -0.5987]])\n"
     ]
    }
   ],
   "source": [
    "x.sub_(y)\n",
    "print(x)"
   ]
  },
  {
   "cell_type": "code",
   "execution_count": 33,
   "id": "78b35205",
   "metadata": {},
   "outputs": [],
   "source": [
    "#same logic for multiplication (element wise)\n",
    "#z= x*y\n",
    "#z= torch.mul(x,y)\n",
    "#x.mul_(y)"
   ]
  },
  {
   "cell_type": "code",
   "execution_count": 34,
   "id": "8aaf606e",
   "metadata": {},
   "outputs": [],
   "source": [
    "#same logic for division (element wise)\n",
    "#z= x/y\n",
    "#z= torch.div(x,y)\n",
    "#x.div(y)"
   ]
  },
  {
   "cell_type": "markdown",
   "id": "d98362da",
   "metadata": {},
   "source": [
    "These basic operations are very similar to numpy arrays."
   ]
  },
  {
   "cell_type": "code",
   "execution_count": 35,
   "id": "80b69921",
   "metadata": {},
   "outputs": [
    {
     "name": "stdout",
     "output_type": "stream",
     "text": [
      "tensor([[0.5339, 0.8474, 0.5498],\n",
      "        [0.6787, 0.8244, 0.3716],\n",
      "        [0.0861, 0.9911, 0.5133],\n",
      "        [0.0640, 0.8295, 0.3106],\n",
      "        [0.4529, 0.8551, 0.8298]])\n"
     ]
    }
   ],
   "source": [
    "x= torch.rand(5,3)\n",
    "print(x)"
   ]
  },
  {
   "cell_type": "code",
   "execution_count": 37,
   "id": "3dfdd66c",
   "metadata": {},
   "outputs": [
    {
     "name": "stdout",
     "output_type": "stream",
     "text": [
      "tensor([0.5339, 0.6787, 0.0861, 0.0640, 0.4529])\n"
     ]
    }
   ],
   "source": [
    "print(x[:,0]) #Slincing (all rows of the first column)"
   ]
  },
  {
   "cell_type": "code",
   "execution_count": 39,
   "id": "e6ad17f6",
   "metadata": {},
   "outputs": [
    {
     "name": "stdout",
     "output_type": "stream",
     "text": [
      "0.8244356513023376\n"
     ]
    }
   ],
   "source": [
    "print(x[1,1].item()) #One value"
   ]
  },
  {
   "cell_type": "code",
   "execution_count": 40,
   "id": "7675b741",
   "metadata": {},
   "outputs": [
    {
     "name": "stdout",
     "output_type": "stream",
     "text": [
      "tensor(0.8244)\n"
     ]
    }
   ],
   "source": [
    "print(x[1,1])"
   ]
  },
  {
   "cell_type": "code",
   "execution_count": 42,
   "id": "fbbc057b",
   "metadata": {},
   "outputs": [
    {
     "name": "stdout",
     "output_type": "stream",
     "text": [
      "tensor([[0.9212, 0.0061, 0.1037, 0.4014],\n",
      "        [0.8458, 0.8800, 0.9707, 0.4086],\n",
      "        [0.9652, 0.0763, 0.2643, 0.0545],\n",
      "        [0.3850, 0.5618, 0.9900, 0.6850]])\n"
     ]
    }
   ],
   "source": [
    "#Reshaping a tensor \n",
    "x= torch.rand(4,4)\n",
    "print(x)"
   ]
  },
  {
   "cell_type": "code",
   "execution_count": 43,
   "id": "6348ef5d",
   "metadata": {},
   "outputs": [
    {
     "name": "stdout",
     "output_type": "stream",
     "text": [
      "tensor([0.9212, 0.0061, 0.1037, 0.4014, 0.8458, 0.8800, 0.9707, 0.4086, 0.9652,\n",
      "        0.0763, 0.2643, 0.0545, 0.3850, 0.5618, 0.9900, 0.6850])\n"
     ]
    }
   ],
   "source": [
    "y=x.view(16)\n",
    "print(y)"
   ]
  },
  {
   "cell_type": "code",
   "execution_count": 45,
   "id": "b18c6d7e",
   "metadata": {},
   "outputs": [
    {
     "name": "stdout",
     "output_type": "stream",
     "text": [
      "tensor([[0.9212, 0.0061, 0.1037, 0.4014, 0.8458, 0.8800, 0.9707, 0.4086],\n",
      "        [0.9652, 0.0763, 0.2643, 0.0545, 0.3850, 0.5618, 0.9900, 0.6850]])\n"
     ]
    }
   ],
   "source": [
    "y=x.view(-1,8)\n",
    "print(y)"
   ]
  },
  {
   "cell_type": "code",
   "execution_count": 48,
   "id": "5772b06d",
   "metadata": {},
   "outputs": [
    {
     "name": "stdout",
     "output_type": "stream",
     "text": [
      "tensor([1., 1., 1., 1., 1.])\n"
     ]
    }
   ],
   "source": [
    "#Converting from numpy to a torch tensor\n",
    "import numpy as np\n",
    "a= torch.ones(5)\n",
    "print(a)"
   ]
  },
  {
   "cell_type": "code",
   "execution_count": 50,
   "id": "f2a3cc2a",
   "metadata": {},
   "outputs": [
    {
     "name": "stdout",
     "output_type": "stream",
     "text": [
      "[1. 1. 1. 1. 1.]\n"
     ]
    }
   ],
   "source": [
    "b= a.numpy()\n",
    "print(b)"
   ]
  },
  {
   "cell_type": "code",
   "execution_count": 51,
   "id": "9401d6f1",
   "metadata": {},
   "outputs": [
    {
     "name": "stdout",
     "output_type": "stream",
     "text": [
      "<class 'numpy.ndarray'>\n"
     ]
    }
   ],
   "source": [
    "print(type(b))"
   ]
  },
  {
   "cell_type": "markdown",
   "id": "2d2eb8ea",
   "metadata": {},
   "source": [
    "Here, we have to be careful if the tensor is on the CPU and not the GPU because then both objects will share\n",
    "the same memory location so this means that if we change one we will also change the other."
   ]
  },
  {
   "cell_type": "code",
   "execution_count": 54,
   "id": "e1e19bb6",
   "metadata": {},
   "outputs": [
    {
     "name": "stdout",
     "output_type": "stream",
     "text": [
      "tensor([3., 3., 3., 3., 3.])\n"
     ]
    }
   ],
   "source": [
    "a.add_(1)\n",
    "print(a)"
   ]
  },
  {
   "cell_type": "code",
   "execution_count": 55,
   "id": "419ae8af",
   "metadata": {},
   "outputs": [
    {
     "name": "stdout",
     "output_type": "stream",
     "text": [
      "[3. 3. 3. 3. 3.]\n"
     ]
    }
   ],
   "source": [
    "print(b)"
   ]
  },
  {
   "cell_type": "markdown",
   "id": "5e3be629",
   "metadata": {},
   "source": [
    "the value of b also changed and that is because both a and b point to the same memory location."
   ]
  },
  {
   "cell_type": "code",
   "execution_count": 56,
   "id": "3d188bfa",
   "metadata": {},
   "outputs": [
    {
     "name": "stdout",
     "output_type": "stream",
     "text": [
      "[1. 1. 1. 1.]\n"
     ]
    }
   ],
   "source": [
    "a= np.ones(4)\n",
    "print(a)"
   ]
  },
  {
   "cell_type": "code",
   "execution_count": 59,
   "id": "3f9b6217",
   "metadata": {},
   "outputs": [
    {
     "name": "stdout",
     "output_type": "stream",
     "text": [
      "tensor([1., 1., 1., 1.], dtype=torch.float64)\n"
     ]
    }
   ],
   "source": [
    "b= torch.from_numpy(a)\n",
    "print(b) #We can also modify the data type."
   ]
  },
  {
   "cell_type": "code",
   "execution_count": 60,
   "id": "61df325f",
   "metadata": {},
   "outputs": [
    {
     "name": "stdout",
     "output_type": "stream",
     "text": [
      "[2. 2. 2. 2.]\n"
     ]
    }
   ],
   "source": [
    "a+= 1\n",
    "print(a)"
   ]
  },
  {
   "cell_type": "code",
   "execution_count": 61,
   "id": "2aeec8a6",
   "metadata": {},
   "outputs": [
    {
     "name": "stdout",
     "output_type": "stream",
     "text": [
      "tensor([2., 2., 2., 2.], dtype=torch.float64)\n"
     ]
    }
   ],
   "source": [
    "print(b)"
   ]
  }
 ],
 "metadata": {
  "kernelspec": {
   "display_name": "Python 3 (ipykernel)",
   "language": "python",
   "name": "python3"
  },
  "language_info": {
   "codemirror_mode": {
    "name": "ipython",
    "version": 3
   },
   "file_extension": ".py",
   "mimetype": "text/x-python",
   "name": "python",
   "nbconvert_exporter": "python",
   "pygments_lexer": "ipython3",
   "version": "3.9.12"
  }
 },
 "nbformat": 4,
 "nbformat_minor": 5
}
